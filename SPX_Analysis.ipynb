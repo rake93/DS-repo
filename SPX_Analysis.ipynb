{
 "cells": [
  {
   "cell_type": "markdown",
   "metadata": {},
   "source": [
    "### Applying different models on SPX data - supervised learning "
   ]
  },
  {
   "cell_type": "code",
   "execution_count": 2,
   "metadata": {
    "collapsed": true
   },
   "outputs": [],
   "source": [
    "import pandas as pd\n",
    "from sklearn.model_selection import train_test_split\n",
    "from sklearn.feature_extraction.text import CountVectorizer\n",
    "from sklearn.naive_bayes import MultinomialNB\n",
    "from sklearn.naive_bayes import GaussianNB\n",
    "from sklearn.svm import SVC\n",
    "from sklearn.ensemble import RandomForestClassifier\n",
    "from sklearn.linear_model import LogisticRegression\n",
    "from sklearn.neighbors import KNeighborsClassifier\n",
    "from sklearn.ensemble import GradientBoostingClassifier\n",
    "from sklearn import tree\n",
    "from sklearn import metrics"
   ]
  },
  {
   "cell_type": "code",
   "execution_count": 8,
   "metadata": {
    "collapsed": false
   },
   "outputs": [
    {
     "data": {
      "text/html": [
       "<div>\n",
       "<table border=\"1\" class=\"dataframe\">\n",
       "  <thead>\n",
       "    <tr style=\"text-align: right;\">\n",
       "      <th></th>\n",
       "      <th>SPX</th>\n",
       "      <th>Unemp Claims</th>\n",
       "      <th>Ret Sales</th>\n",
       "      <th>Ind Prod</th>\n",
       "      <th>NFP</th>\n",
       "      <th>Direction</th>\n",
       "      <th>Direction_num</th>\n",
       "    </tr>\n",
       "    <tr>\n",
       "      <th>Date</th>\n",
       "      <th></th>\n",
       "      <th></th>\n",
       "      <th></th>\n",
       "      <th></th>\n",
       "      <th></th>\n",
       "      <th></th>\n",
       "      <th></th>\n",
       "    </tr>\n",
       "  </thead>\n",
       "  <tbody>\n",
       "    <tr>\n",
       "      <th>10/30/2017</th>\n",
       "      <td>2587.840088</td>\n",
       "      <td>229000</td>\n",
       "      <td>432041</td>\n",
       "      <td>106.1450</td>\n",
       "      <td>147013</td>\n",
       "      <td>U</td>\n",
       "      <td>1.0</td>\n",
       "    </tr>\n",
       "    <tr>\n",
       "      <th>11/6/2017</th>\n",
       "      <td>2582.300049</td>\n",
       "      <td>239000</td>\n",
       "      <td>435470</td>\n",
       "      <td>106.3969</td>\n",
       "      <td>147241</td>\n",
       "      <td>D</td>\n",
       "      <td>0.0</td>\n",
       "    </tr>\n",
       "    <tr>\n",
       "      <th>11/13/2017</th>\n",
       "      <td>2578.850098</td>\n",
       "      <td>252000</td>\n",
       "      <td>435470</td>\n",
       "      <td>106.3969</td>\n",
       "      <td>147241</td>\n",
       "      <td>D</td>\n",
       "      <td>0.0</td>\n",
       "    </tr>\n",
       "    <tr>\n",
       "      <th>11/20/2017</th>\n",
       "      <td>2602.419922</td>\n",
       "      <td>240000</td>\n",
       "      <td>435470</td>\n",
       "      <td>106.3969</td>\n",
       "      <td>147241</td>\n",
       "      <td>U</td>\n",
       "      <td>1.0</td>\n",
       "    </tr>\n",
       "    <tr>\n",
       "      <th>11/27/2017</th>\n",
       "      <td>2642.219971</td>\n",
       "      <td>238000</td>\n",
       "      <td>435470</td>\n",
       "      <td>106.3969</td>\n",
       "      <td>147241</td>\n",
       "      <td>U</td>\n",
       "      <td>1.0</td>\n",
       "    </tr>\n",
       "  </tbody>\n",
       "</table>\n",
       "</div>"
      ],
      "text/plain": [
       "                    SPX  Unemp Claims  Ret Sales  Ind Prod     NFP Direction  \\\n",
       "Date                                                                           \n",
       "10/30/2017  2587.840088        229000     432041  106.1450  147013         U   \n",
       "11/6/2017   2582.300049        239000     435470  106.3969  147241         D   \n",
       "11/13/2017  2578.850098        252000     435470  106.3969  147241         D   \n",
       "11/20/2017  2602.419922        240000     435470  106.3969  147241         U   \n",
       "11/27/2017  2642.219971        238000     435470  106.3969  147241         U   \n",
       "\n",
       "            Direction_num  \n",
       "Date                       \n",
       "10/30/2017            1.0  \n",
       "11/6/2017             0.0  \n",
       "11/13/2017            0.0  \n",
       "11/20/2017            1.0  \n",
       "11/27/2017            1.0  "
      ]
     },
     "execution_count": 8,
     "metadata": {},
     "output_type": "execute_result"
    }
   ],
   "source": [
    "df = pd.read_csv('data/spx.csv')\n",
    "df.set_index('Date', inplace=True)\n",
    "df['Direction_num'] = df.Direction.map({'D':0, 'U':1})\n",
    "df.fillna(0, inplace=True)\n",
    "df.tail()"
   ]
  },
  {
   "cell_type": "code",
   "execution_count": 36,
   "metadata": {
    "collapsed": false
   },
   "outputs": [],
   "source": [
    "X = df[['SPX','Unemp Claims', 'Ret Sales', 'Ind Prod', 'NFP']]\n",
    "# X = df[['SPX','Ind Prod','NFP']]\n",
    "y = df['Direction_num']\n",
    "X_train, X_test, y_train, y_test = train_test_split(X, y, random_state=1)\n",
    "# print(X_train.shape)\n",
    "# print(X_test.shape)\n",
    "# print(y_train.shape)\n",
    "# print(y_test.shape)"
   ]
  },
  {
   "cell_type": "markdown",
   "metadata": {},
   "source": [
    "### Multinominal Naive Bayes"
   ]
  },
  {
   "cell_type": "code",
   "execution_count": 37,
   "metadata": {
    "collapsed": false
   },
   "outputs": [
    {
     "name": "stdout",
     "output_type": "stream",
     "text": [
      "53.44%\n"
     ]
    }
   ],
   "source": [
    "mnb = MultinomialNB()\n",
    "mnb.fit (X_train, y_train)\n",
    "y_pred_class = mnb.predict (X_test)\n",
    "print ('{:.2f}%'.format(metrics.accuracy_score (y_test, y_pred_class)*100))"
   ]
  },
  {
   "cell_type": "markdown",
   "metadata": {},
   "source": [
    "### Gaussian Naive Bayes"
   ]
  },
  {
   "cell_type": "code",
   "execution_count": 38,
   "metadata": {
    "collapsed": false
   },
   "outputs": [
    {
     "name": "stdout",
     "output_type": "stream",
     "text": [
      "53.44%\n"
     ]
    }
   ],
   "source": [
    "gnb = MultinomialNB()\n",
    "gnb.fit (X_train, y_train)\n",
    "y_pred_class = gnb.predict (X_test)\n",
    "print ('{:.2f}%'.format(metrics.accuracy_score (y_test, y_pred_class)*100))"
   ]
  },
  {
   "cell_type": "markdown",
   "metadata": {},
   "source": [
    "### Support Vector Machine"
   ]
  },
  {
   "cell_type": "code",
   "execution_count": 39,
   "metadata": {
    "collapsed": false
   },
   "outputs": [
    {
     "name": "stdout",
     "output_type": "stream",
     "text": [
      "62.60%\n"
     ]
    }
   ],
   "source": [
    "svc = SVC()\n",
    "svc.fit (X_train, y_train)\n",
    "y_pred_class = svc.predict (X_test)\n",
    "print ('{:.2f}%'.format(metrics.accuracy_score (y_test, y_pred_class)*100))"
   ]
  },
  {
   "cell_type": "markdown",
   "metadata": {},
   "source": [
    "### Random Forrest"
   ]
  },
  {
   "cell_type": "code",
   "execution_count": 40,
   "metadata": {
    "collapsed": false
   },
   "outputs": [
    {
     "name": "stdout",
     "output_type": "stream",
     "text": [
      "46.56%\n"
     ]
    }
   ],
   "source": [
    "rand_forrest = RandomForestClassifier()\n",
    "rand_forrest.fit (X_train, y_train)\n",
    "y_pred_class = rand_forrest.predict (X_test)\n",
    "print ('{:.2f}%'.format(metrics.accuracy_score (y_test, y_pred_class)*100))"
   ]
  },
  {
   "cell_type": "markdown",
   "metadata": {},
   "source": [
    "### Logistic Regression"
   ]
  },
  {
   "cell_type": "code",
   "execution_count": 41,
   "metadata": {
    "collapsed": false
   },
   "outputs": [
    {
     "name": "stdout",
     "output_type": "stream",
     "text": [
      "58.78%\n"
     ]
    }
   ],
   "source": [
    "logreg = LogisticRegression()\n",
    "logreg.fit (X_train, y_train)\n",
    "y_pred_class = logreg.predict (X_test)\n",
    "print ('{:.2f}%'.format(metrics.accuracy_score (y_test, y_pred_class)*100))"
   ]
  },
  {
   "cell_type": "markdown",
   "metadata": {},
   "source": [
    "### KNeighborsClassifier"
   ]
  },
  {
   "cell_type": "code",
   "execution_count": 42,
   "metadata": {
    "collapsed": false
   },
   "outputs": [
    {
     "name": "stdout",
     "output_type": "stream",
     "text": [
      "58.78%\n"
     ]
    }
   ],
   "source": [
    "knn = LogisticRegression()\n",
    "knn.fit (X_train, y_train)\n",
    "y_pred_class = knn.predict (X_test)\n",
    "print ('{:.2f}%'.format(metrics.accuracy_score (y_test, y_pred_class)*100))"
   ]
  },
  {
   "cell_type": "markdown",
   "metadata": {},
   "source": [
    "### Decision Tree"
   ]
  },
  {
   "cell_type": "code",
   "execution_count": 43,
   "metadata": {
    "collapsed": false
   },
   "outputs": [
    {
     "name": "stdout",
     "output_type": "stream",
     "text": [
      "58.78%\n"
     ]
    }
   ],
   "source": [
    "tree = LogisticRegression()\n",
    "tree.fit (X_train, y_train)\n",
    "y_pred_class = tree.predict (X_test)\n",
    "print ('{:.2f}%'.format(metrics.accuracy_score (y_test, y_pred_class)*100))"
   ]
  },
  {
   "cell_type": "markdown",
   "metadata": {},
   "source": [
    "### Gradient Boosting"
   ]
  },
  {
   "cell_type": "code",
   "execution_count": 44,
   "metadata": {
    "collapsed": false
   },
   "outputs": [
    {
     "name": "stdout",
     "output_type": "stream",
     "text": [
      "58.78%\n"
     ]
    }
   ],
   "source": [
    "gboost = LogisticRegression()\n",
    "gboost.fit (X_train, y_train)\n",
    "y_pred_class = gboost.predict (X_test)\n",
    "print ('{:.2f}%'.format(metrics.accuracy_score (y_test, y_pred_class)*100))"
   ]
  },
  {
   "cell_type": "markdown",
   "metadata": {},
   "source": [
    "### *-------End-------*"
   ]
  },
  {
   "cell_type": "code",
   "execution_count": null,
   "metadata": {
    "collapsed": true
   },
   "outputs": [],
   "source": []
  },
  {
   "cell_type": "code",
   "execution_count": null,
   "metadata": {
    "collapsed": true
   },
   "outputs": [],
   "source": []
  }
 ],
 "metadata": {
  "anaconda-cloud": {},
  "kernelspec": {
   "display_name": "Python [conda root]",
   "language": "python",
   "name": "conda-root-py"
  },
  "language_info": {
   "codemirror_mode": {
    "name": "ipython",
    "version": 3
   },
   "file_extension": ".py",
   "mimetype": "text/x-python",
   "name": "python",
   "nbconvert_exporter": "python",
   "pygments_lexer": "ipython3",
   "version": "3.5.2"
  }
 },
 "nbformat": 4,
 "nbformat_minor": 1
}
