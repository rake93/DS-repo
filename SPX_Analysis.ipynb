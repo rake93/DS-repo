{
 "cells": [
  {
   "cell_type": "markdown",
   "metadata": {},
   "source": [
    "### Applying different models on SPX data - supervised learning "
   ]
  },
  {
   "cell_type": "code",
   "execution_count": 233,
   "metadata": {
    "collapsed": true
   },
   "outputs": [],
   "source": [
    "import pandas as pd\n",
    "from sklearn.model_selection import train_test_split\n",
    "from sklearn.feature_extraction.text import CountVectorizer\n",
    "from sklearn.naive_bayes import MultinomialNB\n",
    "from sklearn.naive_bayes import GaussianNB\n",
    "from sklearn.svm import SVC\n",
    "from sklearn.ensemble import RandomForestClassifier\n",
    "from sklearn.linear_model import LogisticRegression\n",
    "from sklearn.neighbors import KNeighborsClassifier\n",
    "from sklearn.tree import DecisionTreeClassifier\n",
    "from sklearn.ensemble import GradientBoostingClassifier\n",
    "from sklearn. ensemble import RandomForestClassifier, BaggingClassifier, AdaBoostClassifier, VotingClassifier\n",
    "from sklearn import metrics"
   ]
  },
  {
   "cell_type": "code",
   "execution_count": 270,
   "metadata": {
    "collapsed": false
   },
   "outputs": [
    {
     "data": {
      "text/html": [
       "<div>\n",
       "<table border=\"1\" class=\"dataframe\">\n",
       "  <thead>\n",
       "    <tr style=\"text-align: right;\">\n",
       "      <th></th>\n",
       "      <th>Adj Close</th>\n",
       "      <th>Open</th>\n",
       "      <th>High</th>\n",
       "      <th>Low</th>\n",
       "      <th>Range</th>\n",
       "      <th>Volume</th>\n",
       "      <th>Unemp Claims</th>\n",
       "      <th>Ret Sales</th>\n",
       "      <th>Ind Prod</th>\n",
       "      <th>NFP</th>\n",
       "      <th>Direction</th>\n",
       "      <th>Direction_num</th>\n",
       "    </tr>\n",
       "    <tr>\n",
       "      <th>Date</th>\n",
       "      <th></th>\n",
       "      <th></th>\n",
       "      <th></th>\n",
       "      <th></th>\n",
       "      <th></th>\n",
       "      <th></th>\n",
       "      <th></th>\n",
       "      <th></th>\n",
       "      <th></th>\n",
       "      <th></th>\n",
       "      <th></th>\n",
       "      <th></th>\n",
       "    </tr>\n",
       "  </thead>\n",
       "  <tbody>\n",
       "    <tr>\n",
       "      <th>12/11/2017</th>\n",
       "      <td>2675.810059</td>\n",
       "      <td>2652.189941</td>\n",
       "      <td>2679.629883</td>\n",
       "      <td>2651.469971</td>\n",
       "      <td>28.159912</td>\n",
       "      <td>19343950000</td>\n",
       "      <td>0.0</td>\n",
       "      <td>0.0</td>\n",
       "      <td>0.0</td>\n",
       "      <td>0.0</td>\n",
       "      <td>U</td>\n",
       "      <td>1.0</td>\n",
       "    </tr>\n",
       "    <tr>\n",
       "      <th>12/18/2017</th>\n",
       "      <td>2683.340088</td>\n",
       "      <td>2685.919922</td>\n",
       "      <td>2694.969971</td>\n",
       "      <td>2676.110107</td>\n",
       "      <td>18.859864</td>\n",
       "      <td>16007500000</td>\n",
       "      <td>0.0</td>\n",
       "      <td>0.0</td>\n",
       "      <td>0.0</td>\n",
       "      <td>0.0</td>\n",
       "      <td>D</td>\n",
       "      <td>0.0</td>\n",
       "    </tr>\n",
       "    <tr>\n",
       "      <th>12/25/2017</th>\n",
       "      <td>2673.610107</td>\n",
       "      <td>2679.090088</td>\n",
       "      <td>2692.120117</td>\n",
       "      <td>2673.610107</td>\n",
       "      <td>18.510010</td>\n",
       "      <td>8767680000</td>\n",
       "      <td>0.0</td>\n",
       "      <td>0.0</td>\n",
       "      <td>0.0</td>\n",
       "      <td>0.0</td>\n",
       "      <td>U</td>\n",
       "      <td>1.0</td>\n",
       "    </tr>\n",
       "    <tr>\n",
       "      <th>1/1/2018</th>\n",
       "      <td>2743.149902</td>\n",
       "      <td>2683.729980</td>\n",
       "      <td>2743.449951</td>\n",
       "      <td>2682.360107</td>\n",
       "      <td>61.089844</td>\n",
       "      <td>13827790000</td>\n",
       "      <td>0.0</td>\n",
       "      <td>0.0</td>\n",
       "      <td>0.0</td>\n",
       "      <td>0.0</td>\n",
       "      <td>0</td>\n",
       "      <td>0.0</td>\n",
       "    </tr>\n",
       "    <tr>\n",
       "      <th>1/5/2018</th>\n",
       "      <td>2743.149902</td>\n",
       "      <td>2731.330078</td>\n",
       "      <td>2743.449951</td>\n",
       "      <td>2727.919922</td>\n",
       "      <td>15.530029</td>\n",
       "      <td>1998927821</td>\n",
       "      <td>0.0</td>\n",
       "      <td>0.0</td>\n",
       "      <td>0.0</td>\n",
       "      <td>0.0</td>\n",
       "      <td>0</td>\n",
       "      <td>0.0</td>\n",
       "    </tr>\n",
       "  </tbody>\n",
       "</table>\n",
       "</div>"
      ],
      "text/plain": [
       "              Adj Close         Open         High          Low      Range  \\\n",
       "Date                                                                        \n",
       "12/11/2017  2675.810059  2652.189941  2679.629883  2651.469971  28.159912   \n",
       "12/18/2017  2683.340088  2685.919922  2694.969971  2676.110107  18.859864   \n",
       "12/25/2017  2673.610107  2679.090088  2692.120117  2673.610107  18.510010   \n",
       "1/1/2018    2743.149902  2683.729980  2743.449951  2682.360107  61.089844   \n",
       "1/5/2018    2743.149902  2731.330078  2743.449951  2727.919922  15.530029   \n",
       "\n",
       "                 Volume  Unemp Claims  Ret Sales  Ind Prod  NFP Direction  \\\n",
       "Date                                                                        \n",
       "12/11/2017  19343950000           0.0        0.0       0.0  0.0         U   \n",
       "12/18/2017  16007500000           0.0        0.0       0.0  0.0         D   \n",
       "12/25/2017   8767680000           0.0        0.0       0.0  0.0         U   \n",
       "1/1/2018    13827790000           0.0        0.0       0.0  0.0         0   \n",
       "1/5/2018     1998927821           0.0        0.0       0.0  0.0         0   \n",
       "\n",
       "            Direction_num  \n",
       "Date                       \n",
       "12/11/2017            1.0  \n",
       "12/18/2017            0.0  \n",
       "12/25/2017            1.0  \n",
       "1/1/2018              0.0  \n",
       "1/5/2018              0.0  "
      ]
     },
     "execution_count": 270,
     "metadata": {},
     "output_type": "execute_result"
    }
   ],
   "source": [
    "df = pd.read_csv('data/spx.csv')\n",
    "df.set_index('Date', inplace=True)\n",
    "df['Direction_num'] = df.Direction.map({'D':0, 'U':1})\n",
    "df.fillna(0, inplace=True)\n",
    "df.tail()"
   ]
  },
  {
   "cell_type": "code",
   "execution_count": 297,
   "metadata": {
    "collapsed": false
   },
   "outputs": [],
   "source": [
    "X = df[['Range', 'Volume', 'Unemp Claims', 'Ret Sales', 'Ind Prod', 'NFP']]\n",
    "# X = df[['Range', 'Volume', 'NFP]]\n",
    "y = df['Direction_num']\n",
    "X_train, X_test, y_train, y_test = train_test_split(X, y, test_size=0.33, random_state=60)\n",
    "# print(X_train.shape)\n",
    "# print(X_test.shape)\n",
    "# print(y_train.shape)\n",
    "# print(y_test.shape)"
   ]
  },
  {
   "cell_type": "markdown",
   "metadata": {},
   "source": [
    "### Multinominal Naive Bayes\n",
    "***Added y_pred_class for prediction***"
   ]
  },
  {
   "cell_type": "code",
   "execution_count": 298,
   "metadata": {
    "collapsed": false
   },
   "outputs": [
    {
     "name": "stdout",
     "output_type": "stream",
     "text": [
      "Training data accuracy = 50.86%\n",
      "Test data accuracy = 50.86%\n",
      "Training data accuracy = 52.97%\n"
     ]
    }
   ],
   "source": [
    "mnb = MultinomialNB()\n",
    "mnb.fit (X_train, y_train)\n",
    "y_pred_class = mnb.predict (X_test)\n",
    "print ('Training data accuracy = {:.2f}%'.format(metrics.accuracy_score (y_test, y_pred_class)*100))\n",
    "print ('Test data accuracy = {:.2f}%'.format(mnb.score (X_test, y_test)*100))\n",
    "print ('Training data accuracy = {:.2f}%'.format(mnb.score (X_train, y_train)*100))"
   ]
  },
  {
   "cell_type": "markdown",
   "metadata": {},
   "source": [
    "### Gaussian Naive Bayes"
   ]
  },
  {
   "cell_type": "code",
   "execution_count": 299,
   "metadata": {
    "collapsed": false
   },
   "outputs": [
    {
     "name": "stdout",
     "output_type": "stream",
     "text": [
      "Test data accuracy = 50.86%\n",
      "Training data accuracy = 52.97%\n"
     ]
    }
   ],
   "source": [
    "gnb = MultinomialNB()\n",
    "gnb.fit (X_train, y_train)\n",
    "print ('Test data accuracy = {:.2f}%'.format(gnb.score (X_test, y_test)*100))\n",
    "print ('Training data accuracy = {:.2f}%'.format(gnb.score (X_train, y_train)*100))"
   ]
  },
  {
   "cell_type": "markdown",
   "metadata": {},
   "source": [
    "### Support Vector Machine"
   ]
  },
  {
   "cell_type": "code",
   "execution_count": 300,
   "metadata": {
    "collapsed": false
   },
   "outputs": [
    {
     "name": "stdout",
     "output_type": "stream",
     "text": [
      "Test data accuracy = 52.57%\n",
      "Training data accuracy = 100.00%\n"
     ]
    }
   ],
   "source": [
    "svc = SVC()\n",
    "svc.fit (X_train, y_train)\n",
    "print ('Test data accuracy = {:.2f}%'.format(svc.score (X_test, y_test)*100))\n",
    "print ('Training data accuracy = {:.2f}%'.format(svc.score (X_train, y_train)*100))"
   ]
  },
  {
   "cell_type": "markdown",
   "metadata": {},
   "source": [
    "### Random Forrest"
   ]
  },
  {
   "cell_type": "code",
   "execution_count": 301,
   "metadata": {
    "collapsed": false
   },
   "outputs": [
    {
     "name": "stdout",
     "output_type": "stream",
     "text": [
      "Test data accuracy = 48.57%\n",
      "Training data accuracy = 97.73%\n"
     ]
    }
   ],
   "source": [
    "rand_forrest = RandomForestClassifier()\n",
    "rand_forrest.fit (X_train, y_train)\n",
    "print ('Test data accuracy = {:.2f}%'.format(rand_forrest.score (X_test, y_test)*100))\n",
    "print ('Training data accuracy = {:.2f}%'.format(rand_forrest.score (X_train, y_train)*100))"
   ]
  },
  {
   "cell_type": "markdown",
   "metadata": {},
   "source": [
    "### Logistic Regression"
   ]
  },
  {
   "cell_type": "code",
   "execution_count": 302,
   "metadata": {
    "collapsed": false
   },
   "outputs": [
    {
     "name": "stdout",
     "output_type": "stream",
     "text": [
      "Test data accuracy = 52.57%\n",
      "Training data accuracy = 59.21%\n"
     ]
    }
   ],
   "source": [
    "logreg = LogisticRegression()\n",
    "logreg.fit (X_train, y_train)\n",
    "print ('Test data accuracy = {:.2f}%'.format(logreg.score (X_test, y_test)*100))\n",
    "print ('Training data accuracy = {:.2f}%'.format(logreg.score (X_train, y_train)*100))"
   ]
  },
  {
   "cell_type": "markdown",
   "metadata": {},
   "source": [
    "### KNeighborsClassifier"
   ]
  },
  {
   "cell_type": "code",
   "execution_count": 303,
   "metadata": {
    "collapsed": false
   },
   "outputs": [
    {
     "name": "stdout",
     "output_type": "stream",
     "text": [
      "Test data accuracy = 44.00%\n",
      "Training data accuracy = 69.12%\n"
     ]
    }
   ],
   "source": [
    "knn = KNeighborsClassifier()\n",
    "knn.fit (X_train, y_train)\n",
    "y_pred_class = knn.predict (X_test)\n",
    "print ('Test data accuracy = {:.2f}%'.format(knn.score (X_test, y_test)*100))\n",
    "print ('Training data accuracy = {:.2f}%'.format(knn.score (X_train, y_train)*100))"
   ]
  },
  {
   "cell_type": "markdown",
   "metadata": {},
   "source": [
    "### Decision Tree"
   ]
  },
  {
   "cell_type": "code",
   "execution_count": 304,
   "metadata": {
    "collapsed": false
   },
   "outputs": [
    {
     "name": "stdout",
     "output_type": "stream",
     "text": [
      "Test data accuracy = 50.86%\n",
      "Training data accuracy = 100.00%\n"
     ]
    }
   ],
   "source": [
    "tree = DecisionTreeClassifier()\n",
    "tree.fit (X_train, y_train)\n",
    "print ('Test data accuracy = {:.2f}%'.format(tree.score (X_test, y_test)*100))\n",
    "print ('Training data accuracy = {:.2f}%'.format(tree.score (X_train, y_train)*100))"
   ]
  },
  {
   "cell_type": "markdown",
   "metadata": {},
   "source": [
    "### Gradient Boosting"
   ]
  },
  {
   "cell_type": "code",
   "execution_count": 305,
   "metadata": {
    "collapsed": false
   },
   "outputs": [
    {
     "name": "stdout",
     "output_type": "stream",
     "text": [
      "Test data accuracy = 50.29%\n",
      "Training data accuracy = 92.92%\n"
     ]
    }
   ],
   "source": [
    "gboost = GradientBoostingClassifier()\n",
    "gboost.fit (X_train, y_train)\n",
    "print ('Test data accuracy = {:.2f}%'.format(gboost.score (X_test, y_test)*100))\n",
    "print ('Training data accuracy = {:.2f}%'.format(gboost.score (X_train, y_train)*100))"
   ]
  },
  {
   "cell_type": "markdown",
   "metadata": {
    "collapsed": true
   },
   "source": [
    "### Bagging"
   ]
  },
  {
   "cell_type": "code",
   "execution_count": 306,
   "metadata": {
    "collapsed": false
   },
   "outputs": [
    {
     "name": "stdout",
     "output_type": "stream",
     "text": [
      "Test data accuracy = 52.57%\n",
      "Training data accuracy = 89.52%\n"
     ]
    }
   ],
   "source": [
    "bg = BaggingClassifier(DecisionTreeClassifier(), max_samples= 0.5, max_features = 1.0, n_estimators = 20)\n",
    "bg.fit(X_train,y_train)\n",
    "print ('Test data accuracy = {:.2f}%'.format(bg.score (X_test, y_test)*100))\n",
    "print ('Training data accuracy = {:.2f}%'.format(bg.score (X_train, y_train)*100))"
   ]
  },
  {
   "cell_type": "markdown",
   "metadata": {},
   "source": [
    "### Boosting - ADA Boost"
   ]
  },
  {
   "cell_type": "code",
   "execution_count": 307,
   "metadata": {
    "collapsed": false
   },
   "outputs": [
    {
     "name": "stdout",
     "output_type": "stream",
     "text": [
      "Test data accuracy = 50.86%\n",
      "Training data accuracy = 100.00%\n"
     ]
    }
   ],
   "source": [
    "adb = AdaBoostClassifier(DecisionTreeClassifier(),n_estimators = 5, learning_rate = 1)\n",
    "adb.fit(X_train,y_train)\n",
    "print ('Test data accuracy = {:.2f}%'.format(adb.score (X_test, y_test)*100))\n",
    "print ('Training data accuracy = {:.2f}%'.format(adb.score (X_train, y_train)*100))"
   ]
  },
  {
   "cell_type": "markdown",
   "metadata": {},
   "source": [
    "### Voting Classifier - Multiple Model Ensemble"
   ]
  },
  {
   "cell_type": "code",
   "execution_count": 308,
   "metadata": {
    "collapsed": false
   },
   "outputs": [
    {
     "name": "stdout",
     "output_type": "stream",
     "text": [
      "Test data accuracy = 52.57%\n",
      "Training data accuracy = 100.00%\n"
     ]
    }
   ],
   "source": [
    "mnb = MultinomialNB()\n",
    "svm = SVC()\n",
    "# svm = SVC(kernel = 'poly', degree = 2 )\n",
    "rf = RandomForestClassifier()\n",
    "lr = LogisticRegression()\n",
    "knn = KNeighborsClassifier()\n",
    "dt = DecisionTreeClassifier()\n",
    "gb = GradientBoostingClassifier()\n",
    "\n",
    "evc = VotingClassifier( estimators= [('svm',svm),('lr',lr)], voting = 'hard')\n",
    "evc.fit(X_train,y_train)\n",
    "print ('Test data accuracy = {:.2f}%'.format(evc.score (X_test, y_test)*100))\n",
    "print ('Training data accuracy = {:.2f}%'.format(evc.score (X_train, y_train)*100))"
   ]
  },
  {
   "cell_type": "code",
   "execution_count": null,
   "metadata": {
    "collapsed": true
   },
   "outputs": [],
   "source": []
  },
  {
   "cell_type": "code",
   "execution_count": null,
   "metadata": {
    "collapsed": true
   },
   "outputs": [],
   "source": []
  }
 ],
 "metadata": {
  "anaconda-cloud": {},
  "kernelspec": {
   "display_name": "Python [conda root]",
   "language": "python",
   "name": "conda-root-py"
  }
 },
 "nbformat": 4,
 "nbformat_minor": 1
}
