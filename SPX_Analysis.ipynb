{
 "cells": [
  {
   "cell_type": "code",
   "execution_count": 71,
   "metadata": {
    "collapsed": true
   },
   "outputs": [],
   "source": [
    "import pandas as pd\n",
    "from sklearn.model_selection import train_test_split\n",
    "from sklearn.feature_extraction.text import CountVectorizer\n",
    "from sklearn.naive_bayes import MultinomialNB\n",
    "from sklearn.naive_bayes import GaussianNB\n",
    "from sklearn.svm import SVC\n",
    "from sklearn.ensemble import RandomForestClassifier\n",
    "from sklearn.linear_model import LogisticRegression\n",
    "from sklearn.neighbors import KNeighborsClassifier\n",
    "from sklearn.ensemble import GradientBoostingClassifier\n",
    "from sklearn import tree\n",
    "from sklearn import metrics"
   ]
  },
  {
   "cell_type": "code",
   "execution_count": 43,
   "metadata": {
    "collapsed": false
   },
   "outputs": [
    {
     "data": {
      "text/html": [
       "<div>\n",
       "<table border=\"1\" class=\"dataframe\">\n",
       "  <thead>\n",
       "    <tr style=\"text-align: right;\">\n",
       "      <th></th>\n",
       "      <th>SPX</th>\n",
       "      <th>Unemp Claims</th>\n",
       "      <th>Ret Sales</th>\n",
       "      <th>Ind Prod</th>\n",
       "      <th>NFP</th>\n",
       "      <th>Direction</th>\n",
       "      <th>Direction_num</th>\n",
       "    </tr>\n",
       "    <tr>\n",
       "      <th>Date</th>\n",
       "      <th></th>\n",
       "      <th></th>\n",
       "      <th></th>\n",
       "      <th></th>\n",
       "      <th></th>\n",
       "      <th></th>\n",
       "      <th></th>\n",
       "    </tr>\n",
       "  </thead>\n",
       "  <tbody>\n",
       "    <tr>\n",
       "      <th>12/3/2007</th>\n",
       "      <td>1504.660034</td>\n",
       "      <td>344000.0</td>\n",
       "      <td>336844.0</td>\n",
       "      <td>105.3213</td>\n",
       "      <td>138413.0</td>\n",
       "      <td>0</td>\n",
       "      <td>0.0</td>\n",
       "    </tr>\n",
       "    <tr>\n",
       "      <th>12/10/2007</th>\n",
       "      <td>1467.949951</td>\n",
       "      <td>332000.0</td>\n",
       "      <td>336844.0</td>\n",
       "      <td>105.3213</td>\n",
       "      <td>138413.0</td>\n",
       "      <td>D</td>\n",
       "      <td>0.0</td>\n",
       "    </tr>\n",
       "    <tr>\n",
       "      <th>12/17/2007</th>\n",
       "      <td>1484.459961</td>\n",
       "      <td>350000.0</td>\n",
       "      <td>336844.0</td>\n",
       "      <td>105.3213</td>\n",
       "      <td>138413.0</td>\n",
       "      <td>U</td>\n",
       "      <td>1.0</td>\n",
       "    </tr>\n",
       "    <tr>\n",
       "      <th>12/24/2007</th>\n",
       "      <td>1478.489990</td>\n",
       "      <td>355000.0</td>\n",
       "      <td>336844.0</td>\n",
       "      <td>105.3213</td>\n",
       "      <td>138413.0</td>\n",
       "      <td>D</td>\n",
       "      <td>0.0</td>\n",
       "    </tr>\n",
       "    <tr>\n",
       "      <th>12/31/2007</th>\n",
       "      <td>1411.630005</td>\n",
       "      <td>360000.0</td>\n",
       "      <td>336844.0</td>\n",
       "      <td>105.3213</td>\n",
       "      <td>138413.0</td>\n",
       "      <td>D</td>\n",
       "      <td>0.0</td>\n",
       "    </tr>\n",
       "  </tbody>\n",
       "</table>\n",
       "</div>"
      ],
      "text/plain": [
       "                    SPX  Unemp Claims  Ret Sales  Ind Prod       NFP  \\\n",
       "Date                                                                   \n",
       "12/3/2007   1504.660034      344000.0   336844.0  105.3213  138413.0   \n",
       "12/10/2007  1467.949951      332000.0   336844.0  105.3213  138413.0   \n",
       "12/17/2007  1484.459961      350000.0   336844.0  105.3213  138413.0   \n",
       "12/24/2007  1478.489990      355000.0   336844.0  105.3213  138413.0   \n",
       "12/31/2007  1411.630005      360000.0   336844.0  105.3213  138413.0   \n",
       "\n",
       "           Direction  Direction_num  \n",
       "Date                                 \n",
       "12/3/2007          0            0.0  \n",
       "12/10/2007         D            0.0  \n",
       "12/17/2007         U            1.0  \n",
       "12/24/2007         D            0.0  \n",
       "12/31/2007         D            0.0  "
      ]
     },
     "execution_count": 43,
     "metadata": {},
     "output_type": "execute_result"
    }
   ],
   "source": [
    "df = pd.read_csv('data/spx.csv')\n",
    "df.set_index('Date', inplace=True)\n",
    "df['Direction_num'] = df.Direction.map({'D':0, 'U':1})\n",
    "df.fillna(0, inplace=True)\n",
    "df.head()"
   ]
  },
  {
   "cell_type": "code",
   "execution_count": 148,
   "metadata": {
    "collapsed": false
   },
   "outputs": [],
   "source": [
    "# X = df[['SPX','Unemp Claims', 'Ret Sales', 'Ind Prod', 'NFP']]\n",
    "X = df[['SPX','Ind Prod', 'NFP']]\n",
    "y = df['Direction_num']\n",
    "X_train, X_test, y_train, y_test = train_test_split(X, y, random_state=1)\n",
    "# print(X_train.shape)\n",
    "# print(X_test.shape)\n",
    "# print(y_train.shape)\n",
    "# print(y_test.shape)"
   ]
  },
  {
   "cell_type": "markdown",
   "metadata": {},
   "source": [
    "### Multinominal Naive Bayes"
   ]
  },
  {
   "cell_type": "code",
   "execution_count": 149,
   "metadata": {
    "collapsed": false
   },
   "outputs": [
    {
     "name": "stdout",
     "output_type": "stream",
     "text": [
      "53.03%\n"
     ]
    }
   ],
   "source": [
    "mnb = MultinomialNB()\n",
    "mnb.fit (X_train, y_train)\n",
    "y_pred_class = mnb.predict (X_test)\n",
    "print ('{:.2f}%'.format(metrics.accuracy_score (y_test, y_pred_class)*100))"
   ]
  },
  {
   "cell_type": "markdown",
   "metadata": {},
   "source": [
    "### Gaussian Naive Bayes"
   ]
  },
  {
   "cell_type": "code",
   "execution_count": 150,
   "metadata": {
    "collapsed": false
   },
   "outputs": [
    {
     "name": "stdout",
     "output_type": "stream",
     "text": [
      "53.03%\n"
     ]
    }
   ],
   "source": [
    "gnb = MultinomialNB()\n",
    "gnb.fit (X_train, y_train)\n",
    "y_pred_class = gnb.predict (X_test)\n",
    "print ('{:.2f}%'.format(metrics.accuracy_score (y_test, y_pred_class)*100))"
   ]
  },
  {
   "cell_type": "markdown",
   "metadata": {},
   "source": [
    "### Support Vector Machine"
   ]
  },
  {
   "cell_type": "code",
   "execution_count": 151,
   "metadata": {
    "collapsed": false
   },
   "outputs": [
    {
     "name": "stdout",
     "output_type": "stream",
     "text": [
      "64.39%\n"
     ]
    }
   ],
   "source": [
    "svc = SVC()\n",
    "svc.fit (X_train, y_train)\n",
    "y_pred_class = svc.predict (X_test)\n",
    "print ('{:.2f}%'.format(metrics.accuracy_score (y_test, y_pred_class)*100))"
   ]
  },
  {
   "cell_type": "markdown",
   "metadata": {},
   "source": [
    "### Random Forrest"
   ]
  },
  {
   "cell_type": "code",
   "execution_count": 152,
   "metadata": {
    "collapsed": false
   },
   "outputs": [
    {
     "name": "stdout",
     "output_type": "stream",
     "text": [
      "53.03%\n"
     ]
    }
   ],
   "source": [
    "rand_forrest = RandomForestClassifier()\n",
    "rand_forrest.fit (X_train, y_train)\n",
    "y_pred_class = rand_forrest.predict (X_test)\n",
    "print ('{:.2f}%'.format(metrics.accuracy_score (y_test, y_pred_class)*100))"
   ]
  },
  {
   "cell_type": "markdown",
   "metadata": {},
   "source": [
    "### Logistic Regression"
   ]
  },
  {
   "cell_type": "code",
   "execution_count": 153,
   "metadata": {
    "collapsed": false
   },
   "outputs": [
    {
     "name": "stdout",
     "output_type": "stream",
     "text": [
      "62.88%\n"
     ]
    }
   ],
   "source": [
    "logreg = LogisticRegression()\n",
    "logreg.fit (X_train, y_train)\n",
    "y_pred_class = logreg.predict (X_test)\n",
    "print ('{:.2f}%'.format(metrics.accuracy_score (y_test, y_pred_class)*100))"
   ]
  },
  {
   "cell_type": "markdown",
   "metadata": {},
   "source": [
    "### KNeighborsClassifier"
   ]
  },
  {
   "cell_type": "code",
   "execution_count": 154,
   "metadata": {
    "collapsed": false
   },
   "outputs": [
    {
     "name": "stdout",
     "output_type": "stream",
     "text": [
      "62.88%\n"
     ]
    }
   ],
   "source": [
    "knn = LogisticRegression()\n",
    "knn.fit (X_train, y_train)\n",
    "y_pred_class = knn.predict (X_test)\n",
    "print ('{:.2f}%'.format(metrics.accuracy_score (y_test, y_pred_class)*100))"
   ]
  },
  {
   "cell_type": "markdown",
   "metadata": {},
   "source": [
    "### Decision Tree"
   ]
  },
  {
   "cell_type": "code",
   "execution_count": 155,
   "metadata": {
    "collapsed": false
   },
   "outputs": [
    {
     "name": "stdout",
     "output_type": "stream",
     "text": [
      "62.88%\n"
     ]
    }
   ],
   "source": [
    "tree = LogisticRegression()\n",
    "tree.fit (X_train, y_train)\n",
    "y_pred_class = tree.predict (X_test)\n",
    "print ('{:.2f}%'.format(metrics.accuracy_score (y_test, y_pred_class)*100))"
   ]
  },
  {
   "cell_type": "markdown",
   "metadata": {},
   "source": [
    "### Gradient Boosting"
   ]
  },
  {
   "cell_type": "code",
   "execution_count": 156,
   "metadata": {
    "collapsed": false
   },
   "outputs": [
    {
     "name": "stdout",
     "output_type": "stream",
     "text": [
      "62.88%\n"
     ]
    }
   ],
   "source": [
    "gboost = LogisticRegression()\n",
    "gboost.fit (X_train, y_train)\n",
    "y_pred_class = gboost.predict (X_test)\n",
    "print ('{:.2f}%'.format(metrics.accuracy_score (y_test, y_pred_class)*100))"
   ]
  },
  {
   "cell_type": "markdown",
   "metadata": {},
   "source": [
    "*** End ***"
   ]
  }
 ],
 "metadata": {
  "anaconda-cloud": {},
  "kernelspec": {
   "display_name": "Python [conda root]",
   "language": "python",
   "name": "conda-root-py"
  },
  "language_info": {
   "codemirror_mode": {
    "name": "ipython",
    "version": 3
   },
   "file_extension": ".py",
   "mimetype": "text/x-python",
   "name": "python",
   "nbconvert_exporter": "python",
   "pygments_lexer": "ipython3",
   "version": "3.5.2"
  }
 },
 "nbformat": 4,
 "nbformat_minor": 1
}
